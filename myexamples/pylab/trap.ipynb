{
 "cells": [
  {
   "cell_type": "code",
   "execution_count": 7,
   "metadata": {
    "collapsed": false
   },
   "outputs": [
    {
     "name": "stdout",
     "output_type": "stream",
     "text": [
      "The autoreload extension is already loaded. To reload it, use:\n",
      "  %reload_ext autoreload\n"
     ]
    }
   ],
   "source": [
    "%matplotlib inline\n",
    "import numpy as np\n",
    "import matplotlib.pyplot as plt\n",
    "\n",
    "%load_ext autoreload  \n",
    "%autoreload 2\n",
    "from orbsubs import *   "
   ]
  },
  {
   "cell_type": "code",
   "execution_count": 30,
   "metadata": {
    "collapsed": false
   },
   "outputs": [
    {
     "name": "stdout",
     "output_type": "stream",
     "text": [
      "../trappist/a1_ext.txt\n",
      "../trappist/a1_pm0.txt\n",
      "../trappist/a1_pm1.txt\n",
      "../trappist/a1_ext.txt\n",
      "../trappist/a1_pm0.txt\n"
     ]
    },
    {
     "data": {
      "image/png": "[encoded data removed]",
      "text/plain": [
       "<matplotlib.figure.Figure at 0x108e9e278>"
      ]
     },
     "metadata": {},
     "output_type": "display_data"
    }
   ],
   "source": [
    "fileroot = \"../trappist/a1\"  \n",
    "numberpm=2\n",
    "plt_cols(fileroot,numberpm,0,0)"
   ]
  },
  {
   "cell_type": "code",
   "execution_count": 23,
   "metadata": {
    "collapsed": false
   },
   "outputs": [
    {
     "name": "stdout",
     "output_type": "stream",
     "text": [
      "../trappist/a1_ext.txt\n",
      "../trappist/a1_pm0.txt\n",
      "../trappist/a1_pm1.txt\n"
     ]
    }
   ],
   "source": [
    "fileroot = \"../trappist/a1\" \n",
    "npointmass=2\n",
    "# read in files\n",
    "#tt,x0,y0,z0,vx0,vy0,vz0,mm=readpmfile(fileroot,0)\n",
    "t,x,y,z,vx,vy,vz,omx,omy,omz,llx,lly,llz,Ixx,Iyy,Izz,Ixy,Iyz,Ixz=\\\n",
    "   readresfile(fileroot)\n",
    "tt, mvec, xarr,yarr,zarr,vxarr,vyarr,vzarr=\\\n",
    "   readallpmfiles(fileroot,npointmass)\n"
   ]
  },
  {
   "cell_type": "code",
   "execution_count": 24,
   "metadata": {
    "collapsed": false
   },
   "outputs": [
    {
     "name": "stdout",
     "output_type": "stream",
     "text": [
      "../trappist/a1_ext.txt\n",
      "../trappist/a1_pm0.txt\n",
      "../trappist/a1_pm1.txt\n"
     ]
    }
   ],
   "source": [
    "# read in files putting stuff into orbital element arrays\n",
    "t,mvec,aaarr,eearr,iiarr,lnarr,ararr,maarr=\\\n",
    "    orbels_arr(fileroot,2)\n"
   ]
  },
  {
   "cell_type": "code",
   "execution_count": 5,
   "metadata": {
    "collapsed": false
   },
   "outputs": [
    {
     "name": "stdout",
     "output_type": "stream",
     "text": [
      "../trappist/a1_ext.txt\n",
      "../trappist/a1_pm0.txt\n"
     ]
    }
   ],
   "source": [
    "obliquity_deg,spin,Jvec = give_body_angs(fileroot)"
   ]
  },
  {
   "cell_type": "code",
   "execution_count": null,
   "metadata": {
    "collapsed": false
   },
   "outputs": [],
   "source": [
    "plt.plot(tt,eearr[0])\n",
    "plt.plot(tt,eearr[1])\n"
   ]
  },
  {
   "cell_type": "code",
   "execution_count": null,
   "metadata": {
    "collapsed": false
   },
   "outputs": [],
   "source": [
    "plt.plot(tt,xvec[1])"
   ]
  },
  {
   "cell_type": "code",
   "execution_count": null,
   "metadata": {
    "collapsed": true
   },
   "outputs": [],
   "source": []
  }
 ],
 "metadata": {
  "kernelspec": {
   "display_name": "Python 3",
   "language": "python",
   "name": "python3"
  },
  "language_info": {
   "codemirror_mode": {
    "name": "ipython",
    "version": 3
   },
   "file_extension": ".py",
   "mimetype": "text/x-python",
   "name": "python",
   "nbconvert_exporter": "python",
   "pygments_lexer": "ipython3",
   "version": "3.5.1"
  }
 },
 "nbformat": 4,
 "nbformat_minor": 0
}
